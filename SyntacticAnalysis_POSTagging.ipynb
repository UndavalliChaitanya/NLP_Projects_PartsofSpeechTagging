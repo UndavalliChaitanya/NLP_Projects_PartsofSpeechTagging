{
 "cells": [
  {
   "cell_type": "markdown",
   "metadata": {},
   "source": [
    "# _POS tagging with modified techniques on Vanilla Viterbi_"
   ]
  },
  {
   "cell_type": "code",
   "execution_count": 71,
   "metadata": {},
   "outputs": [],
   "source": [
    "#Importing necessary libraries\n",
    "import nltk, re\n",
    "import numpy as np\n",
    "import pandas as pd\n",
    "import requests\n",
    "import matplotlib.pyplot as plt\n",
    "import seaborn as sns\n",
    "import random\n",
    "from sklearn.model_selection import train_test_split\n",
    "from nltk.tokenize import word_tokenize"
   ]
  },
  {
   "cell_type": "code",
   "execution_count": 72,
   "metadata": {},
   "outputs": [],
   "source": [
    "# reading the Treebank dataset with universal tags\n",
    "nltk_data = list(nltk.corpus.treebank.tagged_sents(tagset='universal'))"
   ]
  },
  {
   "cell_type": "code",
   "execution_count": 73,
   "metadata": {},
   "outputs": [
    {
     "name": "stdout",
     "output_type": "stream",
     "text": [
      "100676\n"
     ]
    },
    {
     "data": {
      "text/plain": [
       "[('Pierre', 'NOUN'),\n",
       " ('Vinken', 'NOUN'),\n",
       " (',', '.'),\n",
       " ('61', 'NUM'),\n",
       " ('years', 'NOUN'),\n",
       " ('old', 'ADJ'),\n",
       " (',', '.'),\n",
       " ('will', 'VERB'),\n",
       " ('join', 'VERB'),\n",
       " ('the', 'DET')]"
      ]
     },
     "execution_count": 73,
     "metadata": {},
     "output_type": "execute_result"
    }
   ],
   "source": [
    "# printing the no of tagged words\n",
    "tagged_words = [tup for sent in nltk_data for tup in sent]\n",
    "print(len(tagged_words))\n",
    "tagged_words[:10]"
   ]
  },
  {
   "cell_type": "code",
   "execution_count": 74,
   "metadata": {},
   "outputs": [
    {
     "data": {
      "text/plain": [
       "12"
      ]
     },
     "execution_count": 74,
     "metadata": {},
     "output_type": "execute_result"
    }
   ],
   "source": [
    "# printing the no of coarse tag classes\n",
    "tags =  [t[1] for t in tagged_words]\n",
    "unique_tags = set(tags)\n",
    "len(unique_tags)"
   ]
  },
  {
   "cell_type": "code",
   "execution_count": 75,
   "metadata": {},
   "outputs": [
    {
     "data": {
      "text/plain": [
       "[('NOUN', 28867),\n",
       " ('VERB', 13564),\n",
       " ('.', 11715),\n",
       " ('ADP', 9857),\n",
       " ('DET', 8725),\n",
       " ('X', 6613),\n",
       " ('ADJ', 6397),\n",
       " ('NUM', 3546),\n",
       " ('PRT', 3219),\n",
       " ('ADV', 3171),\n",
       " ('PRON', 2737),\n",
       " ('CONJ', 2265)]"
      ]
     },
     "execution_count": 75,
     "metadata": {},
     "output_type": "execute_result"
    }
   ],
   "source": [
    "#finding the most frequet tag in the corpus\n",
    "from collections import Counter\n",
    "tag_counts = Counter(tags)\n",
    "tag_counts.most_common()"
   ]
  },
  {
   "cell_type": "markdown",
   "metadata": {},
   "source": [
    "## Splitting the dataset into train data and test data"
   ]
  },
  {
   "cell_type": "code",
   "execution_count": 76,
   "metadata": {},
   "outputs": [
    {
     "name": "stdout",
     "output_type": "stream",
     "text": [
      "Train dataset size - 3718\n",
      "Test dataset size - 196\n"
     ]
    }
   ],
   "source": [
    "# Splitting into train and test\n",
    "random.seed(1234)\n",
    "train_set, test_set = train_test_split(nltk_data, train_size=0.95)\n",
    "\n",
    "print(\"Train dataset size -\", len(train_set))\n",
    "print(\"Test dataset size -\", len(test_set))"
   ]
  },
  {
   "cell_type": "code",
   "execution_count": 77,
   "metadata": {
    "scrolled": true
   },
   "outputs": [
    {
     "data": {
      "text/plain": [
       "95432"
      ]
     },
     "execution_count": 77,
     "metadata": {},
     "output_type": "execute_result"
    }
   ],
   "source": [
    "# retrieving list of tagged words for train dataset\n",
    "\n",
    "train_tagged_words = [tup for sent in train_set for tup in sent]\n",
    "len(train_tagged_words)"
   ]
  },
  {
   "cell_type": "code",
   "execution_count": 78,
   "metadata": {},
   "outputs": [
    {
     "data": {
      "text/plain": [
       "[('Your', 'PRON'),\n",
       " ('$', '.'),\n",
       " ('15,000', 'NUM'),\n",
       " ('*U*', 'X'),\n",
       " ('will', 'VERB'),\n",
       " ('help', 'VERB'),\n",
       " ('*-1', 'X'),\n",
       " ('keep', 'VERB'),\n",
       " ('a', 'DET'),\n",
       " ('needy', 'ADJ')]"
      ]
     },
     "execution_count": 78,
     "metadata": {},
     "output_type": "execute_result"
    }
   ],
   "source": [
    "# Tagged words in the training set\n",
    "\n",
    "train_tagged_words[:10]"
   ]
  },
  {
   "cell_type": "code",
   "execution_count": 79,
   "metadata": {},
   "outputs": [
    {
     "data": {
      "text/plain": [
       "['Your', '$', '15,000', '*U*', 'will', 'help', '*-1', 'keep', 'a', 'needy']"
      ]
     },
     "execution_count": 79,
     "metadata": {},
     "output_type": "execute_result"
    }
   ],
   "source": [
    "# tokens in the train set - train_tagged_words\n",
    "\n",
    "train_data_tokens = [pair[0] for pair in train_tagged_words]\n",
    "train_data_tokens[:10]"
   ]
  },
  {
   "cell_type": "code",
   "execution_count": 80,
   "metadata": {},
   "outputs": [
    {
     "data": {
      "text/plain": [
       "['PRON', '.', 'NUM', 'X', 'VERB', 'VERB', 'X', 'VERB', 'DET', 'ADJ']"
      ]
     },
     "execution_count": 80,
     "metadata": {},
     "output_type": "execute_result"
    }
   ],
   "source": [
    "# POS tags for the tokens in the train set -\n",
    "\n",
    "train_data_pos_tags = [pair[1] for pair in train_tagged_words]\n",
    "train_data_pos_tags[:10]"
   ]
  },
  {
   "cell_type": "code",
   "execution_count": 84,
   "metadata": {},
   "outputs": [],
   "source": [
    "# build the train vocabulary to a set\n",
    "\n",
    "train_vocabulary_set = set(train_data_tokens)"
   ]
  },
  {
   "cell_type": "code",
   "execution_count": 85,
   "metadata": {},
   "outputs": [],
   "source": [
    "# build the POS tags to a set\n",
    "\n",
    "train_pos_tag_set = set(train_data_pos_tags)"
   ]
  },
  {
   "cell_type": "code",
   "execution_count": 86,
   "metadata": {},
   "outputs": [
    {
     "name": "stdout",
     "output_type": "stream",
     "text": [
      "Length : \n",
      "Vocabulary: 12011 \n",
      "Tags: 12\n",
      "\n",
      "Available Tags :\n",
      "\n",
      "{'DET', 'ADV', 'NOUN', 'PRON', 'ADJ', '.', 'X', 'CONJ', 'NUM', 'PRT', 'VERB', 'ADP'}\n"
     ]
    }
   ],
   "source": [
    "print(\"Length : \\nVocabulary: {} \\nTags: {}\".format(len(train_vocabulary_set), len(train_pos_tag_set)))\n",
    "print(\"\\nAvailable Tags :\\n\")\n",
    "print(train_pos_tag_set)"
   ]
  },
  {
   "cell_type": "code",
   "execution_count": 87,
   "metadata": {},
   "outputs": [],
   "source": [
    "# computing P(w/t) and storing in [Tags x Vocabulary] matrix. \n",
    "len_pos_tags = len(train_pos_tag_set)\n",
    "len_vocab = len(train_vocabulary_set)\n",
    "\n",
    "word_given_tag = np.zeros((len_pos_tags, len_vocab))"
   ]
  },
  {
   "cell_type": "code",
   "execution_count": 88,
   "metadata": {},
   "outputs": [],
   "source": [
    "# compute word given tag: Emission Probability\n",
    "\n",
    "def word_given_tag(word, tag, train_bag = train_tagged_words):\n",
    "    tag_list = [pair for pair in train_bag if pair[1]==tag]\n",
    "    count_tag = len(tag_list)\n",
    "    w_given_tag_list = [pair[0] for pair in tag_list if pair[0]==word]\n",
    "    count_w_given_tag = len(w_given_tag_list)\n",
    "    \n",
    "    return (count_w_given_tag, count_tag)"
   ]
  },
  {
   "cell_type": "code",
   "execution_count": 89,
   "metadata": {},
   "outputs": [],
   "source": [
    "# compute tag given tag: tag2(t2) given tag1 (t1), i.e. Transition Probability\n",
    "\n",
    "def t2_given_t1(t2, t1, train_bag = train_tagged_words):\n",
    "    tags = [pair[1] for pair in train_bag]\n",
    "    count_t1 = len([t for t in tags if t==t1])\n",
    "    count_t2_t1 = 0\n",
    "    for index in range(len(tags)-1):\n",
    "        if tags[index]==t1 and tags[index+1] == t2:\n",
    "            count_t2_t1 += 1\n",
    "    return (count_t2_t1, count_t1)"
   ]
  },
  {
   "cell_type": "code",
   "execution_count": 90,
   "metadata": {},
   "outputs": [],
   "source": [
    "# creating t x t transition matrix of tags\n",
    "\n",
    "tags_matrix = np.zeros((len_pos_tags, len_pos_tags), dtype='float32')\n",
    "for i, t1 in enumerate(list(train_pos_tag_set)):\n",
    "    for j, t2 in enumerate(list(train_pos_tag_set)): \n",
    "        tags_matrix[i, j] = t2_given_t1(t2, t1)[0]/t2_given_t1(t2, t1)[1]\n",
    "\n"
   ]
  },
  {
   "cell_type": "code",
   "execution_count": 91,
   "metadata": {},
   "outputs": [
    {
     "data": {
      "text/plain": [
       "array([[5.31016150e-03, 1.25512909e-02, 6.37702167e-01, 3.62056470e-03,\n",
       "        2.05889449e-01, 1.76200829e-02, 4.53777462e-02, 4.82741976e-04,\n",
       "        2.26888731e-02, 1.20685494e-04, 3.93434726e-02, 9.29278322e-03],\n",
       "       [6.81667775e-02, 8.00794140e-02, 3.24288532e-02, 1.55526139e-02,\n",
       "        1.28060892e-01, 1.37326270e-01, 2.25016549e-02, 6.94904057e-03,\n",
       "        2.97816023e-02, 1.45598939e-02, 3.45466584e-01, 1.19126409e-01],\n",
       "       [1.34269930e-02, 1.69758163e-02, 2.63381273e-01, 4.64639813e-03,\n",
       "        1.20367324e-02, 2.38978520e-01, 2.90857200e-02, 4.26224694e-02,\n",
       "        9.47572570e-03, 4.41224910e-02, 1.47440821e-01, 1.77807048e-01],\n",
       "       [9.61908419e-03, 3.34744118e-02, 2.08926514e-01, 8.08003079e-03,\n",
       "        7.11812228e-02, 4.04001549e-02, 9.27279741e-02, 5.38668735e-03,\n",
       "        6.92574074e-03, 1.23124281e-02, 4.87495184e-01, 2.34705657e-02],\n",
       "       [4.62351367e-03, 4.45838831e-03, 6.98645949e-01, 6.60502003e-04,\n",
       "        6.60502017e-02, 6.48943186e-02, 2.17965655e-02, 1.70079265e-02,\n",
       "        2.08058115e-02, 1.05680320e-02, 1.17239105e-02, 7.87648633e-02],\n",
       "       [1.73480466e-01, 5.27315475e-02, 2.21056446e-01, 6.62988424e-02,\n",
       "        4.48625199e-02, 9.34334323e-02, 2.75868308e-02, 5.85202612e-02,\n",
       "        8.05897266e-02, 2.26121559e-03, 8.89109969e-02, 9.01772827e-02],\n",
       "       [5.41660041e-02, 2.66050659e-02, 6.26095235e-02, 5.52811846e-02,\n",
       "        1.72056723e-02, 1.63294569e-01, 7.45579079e-02, 9.55870654e-03,\n",
       "        2.54898844e-03, 1.84960961e-01, 2.04078376e-01, 1.45133018e-01],\n",
       "       [1.18359737e-01, 5.63839711e-02, 3.52749288e-01, 5.82479015e-02,\n",
       "        1.15097858e-01, 3.54147255e-02, 7.45573174e-03, 4.65983234e-04,\n",
       "        4.24044728e-02, 5.12581551e-03, 1.56104386e-01, 5.21901213e-02],\n",
       "       [3.28064431e-03, 2.98240385e-03, 3.56397241e-01, 8.94721132e-04,\n",
       "        3.34029235e-02, 1.15419030e-01, 2.08470032e-01, 1.40172979e-02,\n",
       "        1.84312552e-01, 2.68416349e-02, 1.78944226e-02, 3.60870846e-02],\n",
       "       [1.00163668e-01, 9.81996767e-03, 2.49099836e-01, 1.80032738e-02,\n",
       "        8.37970525e-02, 4.18985263e-02, 1.34206219e-02, 2.29132571e-03,\n",
       "        5.63011467e-02, 1.63666124e-03, 4.03273314e-01, 2.02945992e-02],\n",
       "       [1.35072187e-01, 8.22077319e-02, 1.09920822e-01, 3.57863680e-02,\n",
       "        6.52072653e-02, 3.43890712e-02, 2.18289092e-01, 5.43393893e-03,\n",
       "        2.26672869e-02, 3.14392187e-02, 1.68917865e-01, 9.06691477e-02],\n",
       "       [3.25290918e-01, 1.36649944e-02, 3.21554393e-01, 6.88587576e-02,\n",
       "        1.05690189e-01, 3.98206487e-02, 3.45895179e-02, 7.47304352e-04,\n",
       "        6.32006004e-02, 1.17433548e-03, 8.22034758e-03, 1.71879996e-02]],\n",
       "      dtype=float32)"
      ]
     },
     "execution_count": 91,
     "metadata": {},
     "output_type": "execute_result"
    }
   ],
   "source": [
    "tags_matrix"
   ]
  },
  {
   "cell_type": "code",
   "execution_count": 92,
   "metadata": {},
   "outputs": [],
   "source": [
    "# matrix to a data frame for better readability\n",
    "tags_df = pd.DataFrame(tags_matrix, columns = list(train_pos_tag_set), index=list(train_pos_tag_set))\n"
   ]
  },
  {
   "cell_type": "code",
   "execution_count": 93,
   "metadata": {},
   "outputs": [
    {
     "data": {
      "text/html": [
       "<div>\n",
       "<style scoped>\n",
       "    .dataframe tbody tr th:only-of-type {\n",
       "        vertical-align: middle;\n",
       "    }\n",
       "\n",
       "    .dataframe tbody tr th {\n",
       "        vertical-align: top;\n",
       "    }\n",
       "\n",
       "    .dataframe thead th {\n",
       "        text-align: right;\n",
       "    }\n",
       "</style>\n",
       "<table border=\"1\" class=\"dataframe\">\n",
       "  <thead>\n",
       "    <tr style=\"text-align: right;\">\n",
       "      <th></th>\n",
       "      <th>DET</th>\n",
       "      <th>ADV</th>\n",
       "      <th>NOUN</th>\n",
       "      <th>PRON</th>\n",
       "      <th>ADJ</th>\n",
       "      <th>.</th>\n",
       "      <th>X</th>\n",
       "      <th>CONJ</th>\n",
       "      <th>NUM</th>\n",
       "      <th>PRT</th>\n",
       "      <th>VERB</th>\n",
       "      <th>ADP</th>\n",
       "    </tr>\n",
       "  </thead>\n",
       "  <tbody>\n",
       "    <tr>\n",
       "      <th>DET</th>\n",
       "      <td>0.005310</td>\n",
       "      <td>0.012551</td>\n",
       "      <td>0.637702</td>\n",
       "      <td>0.003621</td>\n",
       "      <td>0.205889</td>\n",
       "      <td>0.017620</td>\n",
       "      <td>0.045378</td>\n",
       "      <td>0.000483</td>\n",
       "      <td>0.022689</td>\n",
       "      <td>0.000121</td>\n",
       "      <td>0.039343</td>\n",
       "      <td>0.009293</td>\n",
       "    </tr>\n",
       "    <tr>\n",
       "      <th>ADV</th>\n",
       "      <td>0.068167</td>\n",
       "      <td>0.080079</td>\n",
       "      <td>0.032429</td>\n",
       "      <td>0.015553</td>\n",
       "      <td>0.128061</td>\n",
       "      <td>0.137326</td>\n",
       "      <td>0.022502</td>\n",
       "      <td>0.006949</td>\n",
       "      <td>0.029782</td>\n",
       "      <td>0.014560</td>\n",
       "      <td>0.345467</td>\n",
       "      <td>0.119126</td>\n",
       "    </tr>\n",
       "    <tr>\n",
       "      <th>NOUN</th>\n",
       "      <td>0.013427</td>\n",
       "      <td>0.016976</td>\n",
       "      <td>0.263381</td>\n",
       "      <td>0.004646</td>\n",
       "      <td>0.012037</td>\n",
       "      <td>0.238979</td>\n",
       "      <td>0.029086</td>\n",
       "      <td>0.042622</td>\n",
       "      <td>0.009476</td>\n",
       "      <td>0.044122</td>\n",
       "      <td>0.147441</td>\n",
       "      <td>0.177807</td>\n",
       "    </tr>\n",
       "    <tr>\n",
       "      <th>PRON</th>\n",
       "      <td>0.009619</td>\n",
       "      <td>0.033474</td>\n",
       "      <td>0.208927</td>\n",
       "      <td>0.008080</td>\n",
       "      <td>0.071181</td>\n",
       "      <td>0.040400</td>\n",
       "      <td>0.092728</td>\n",
       "      <td>0.005387</td>\n",
       "      <td>0.006926</td>\n",
       "      <td>0.012312</td>\n",
       "      <td>0.487495</td>\n",
       "      <td>0.023471</td>\n",
       "    </tr>\n",
       "    <tr>\n",
       "      <th>ADJ</th>\n",
       "      <td>0.004624</td>\n",
       "      <td>0.004458</td>\n",
       "      <td>0.698646</td>\n",
       "      <td>0.000661</td>\n",
       "      <td>0.066050</td>\n",
       "      <td>0.064894</td>\n",
       "      <td>0.021797</td>\n",
       "      <td>0.017008</td>\n",
       "      <td>0.020806</td>\n",
       "      <td>0.010568</td>\n",
       "      <td>0.011724</td>\n",
       "      <td>0.078765</td>\n",
       "    </tr>\n",
       "    <tr>\n",
       "      <th>.</th>\n",
       "      <td>0.173480</td>\n",
       "      <td>0.052732</td>\n",
       "      <td>0.221056</td>\n",
       "      <td>0.066299</td>\n",
       "      <td>0.044863</td>\n",
       "      <td>0.093433</td>\n",
       "      <td>0.027587</td>\n",
       "      <td>0.058520</td>\n",
       "      <td>0.080590</td>\n",
       "      <td>0.002261</td>\n",
       "      <td>0.088911</td>\n",
       "      <td>0.090177</td>\n",
       "    </tr>\n",
       "    <tr>\n",
       "      <th>X</th>\n",
       "      <td>0.054166</td>\n",
       "      <td>0.026605</td>\n",
       "      <td>0.062610</td>\n",
       "      <td>0.055281</td>\n",
       "      <td>0.017206</td>\n",
       "      <td>0.163295</td>\n",
       "      <td>0.074558</td>\n",
       "      <td>0.009559</td>\n",
       "      <td>0.002549</td>\n",
       "      <td>0.184961</td>\n",
       "      <td>0.204078</td>\n",
       "      <td>0.145133</td>\n",
       "    </tr>\n",
       "    <tr>\n",
       "      <th>CONJ</th>\n",
       "      <td>0.118360</td>\n",
       "      <td>0.056384</td>\n",
       "      <td>0.352749</td>\n",
       "      <td>0.058248</td>\n",
       "      <td>0.115098</td>\n",
       "      <td>0.035415</td>\n",
       "      <td>0.007456</td>\n",
       "      <td>0.000466</td>\n",
       "      <td>0.042404</td>\n",
       "      <td>0.005126</td>\n",
       "      <td>0.156104</td>\n",
       "      <td>0.052190</td>\n",
       "    </tr>\n",
       "    <tr>\n",
       "      <th>NUM</th>\n",
       "      <td>0.003281</td>\n",
       "      <td>0.002982</td>\n",
       "      <td>0.356397</td>\n",
       "      <td>0.000895</td>\n",
       "      <td>0.033403</td>\n",
       "      <td>0.115419</td>\n",
       "      <td>0.208470</td>\n",
       "      <td>0.014017</td>\n",
       "      <td>0.184313</td>\n",
       "      <td>0.026842</td>\n",
       "      <td>0.017894</td>\n",
       "      <td>0.036087</td>\n",
       "    </tr>\n",
       "    <tr>\n",
       "      <th>PRT</th>\n",
       "      <td>0.100164</td>\n",
       "      <td>0.009820</td>\n",
       "      <td>0.249100</td>\n",
       "      <td>0.018003</td>\n",
       "      <td>0.083797</td>\n",
       "      <td>0.041899</td>\n",
       "      <td>0.013421</td>\n",
       "      <td>0.002291</td>\n",
       "      <td>0.056301</td>\n",
       "      <td>0.001637</td>\n",
       "      <td>0.403273</td>\n",
       "      <td>0.020295</td>\n",
       "    </tr>\n",
       "    <tr>\n",
       "      <th>VERB</th>\n",
       "      <td>0.135072</td>\n",
       "      <td>0.082208</td>\n",
       "      <td>0.109921</td>\n",
       "      <td>0.035786</td>\n",
       "      <td>0.065207</td>\n",
       "      <td>0.034389</td>\n",
       "      <td>0.218289</td>\n",
       "      <td>0.005434</td>\n",
       "      <td>0.022667</td>\n",
       "      <td>0.031439</td>\n",
       "      <td>0.168918</td>\n",
       "      <td>0.090669</td>\n",
       "    </tr>\n",
       "    <tr>\n",
       "      <th>ADP</th>\n",
       "      <td>0.325291</td>\n",
       "      <td>0.013665</td>\n",
       "      <td>0.321554</td>\n",
       "      <td>0.068859</td>\n",
       "      <td>0.105690</td>\n",
       "      <td>0.039821</td>\n",
       "      <td>0.034590</td>\n",
       "      <td>0.000747</td>\n",
       "      <td>0.063201</td>\n",
       "      <td>0.001174</td>\n",
       "      <td>0.008220</td>\n",
       "      <td>0.017188</td>\n",
       "    </tr>\n",
       "  </tbody>\n",
       "</table>\n",
       "</div>"
      ],
      "text/plain": [
       "           DET       ADV      NOUN      PRON       ADJ         .         X  \\\n",
       "DET   0.005310  0.012551  0.637702  0.003621  0.205889  0.017620  0.045378   \n",
       "ADV   0.068167  0.080079  0.032429  0.015553  0.128061  0.137326  0.022502   \n",
       "NOUN  0.013427  0.016976  0.263381  0.004646  0.012037  0.238979  0.029086   \n",
       "PRON  0.009619  0.033474  0.208927  0.008080  0.071181  0.040400  0.092728   \n",
       "ADJ   0.004624  0.004458  0.698646  0.000661  0.066050  0.064894  0.021797   \n",
       ".     0.173480  0.052732  0.221056  0.066299  0.044863  0.093433  0.027587   \n",
       "X     0.054166  0.026605  0.062610  0.055281  0.017206  0.163295  0.074558   \n",
       "CONJ  0.118360  0.056384  0.352749  0.058248  0.115098  0.035415  0.007456   \n",
       "NUM   0.003281  0.002982  0.356397  0.000895  0.033403  0.115419  0.208470   \n",
       "PRT   0.100164  0.009820  0.249100  0.018003  0.083797  0.041899  0.013421   \n",
       "VERB  0.135072  0.082208  0.109921  0.035786  0.065207  0.034389  0.218289   \n",
       "ADP   0.325291  0.013665  0.321554  0.068859  0.105690  0.039821  0.034590   \n",
       "\n",
       "          CONJ       NUM       PRT      VERB       ADP  \n",
       "DET   0.000483  0.022689  0.000121  0.039343  0.009293  \n",
       "ADV   0.006949  0.029782  0.014560  0.345467  0.119126  \n",
       "NOUN  0.042622  0.009476  0.044122  0.147441  0.177807  \n",
       "PRON  0.005387  0.006926  0.012312  0.487495  0.023471  \n",
       "ADJ   0.017008  0.020806  0.010568  0.011724  0.078765  \n",
       ".     0.058520  0.080590  0.002261  0.088911  0.090177  \n",
       "X     0.009559  0.002549  0.184961  0.204078  0.145133  \n",
       "CONJ  0.000466  0.042404  0.005126  0.156104  0.052190  \n",
       "NUM   0.014017  0.184313  0.026842  0.017894  0.036087  \n",
       "PRT   0.002291  0.056301  0.001637  0.403273  0.020295  \n",
       "VERB  0.005434  0.022667  0.031439  0.168918  0.090669  \n",
       "ADP   0.000747  0.063201  0.001174  0.008220  0.017188  "
      ]
     },
     "execution_count": 93,
     "metadata": {},
     "output_type": "execute_result"
    }
   ],
   "source": [
    "# dataset\n",
    "tags_df"
   ]
  },
  {
   "cell_type": "code",
   "execution_count": 94,
   "metadata": {},
   "outputs": [
    {
     "data": {
      "image/png": "[encoded data removed]",
      "text/plain": [
       "<Figure size 1008x576 with 2 Axes>"
      ]
     },
     "metadata": {
      "needs_background": "light"
     },
     "output_type": "display_data"
    }
   ],
   "source": [
    "# heatmap of tags matrix\n",
    "plt.figure(figsize=(14, 8))\n",
    "sns.heatmap(tags_df, annot = True)\n",
    "plt.show()"
   ]
  },
  {
   "cell_type": "code",
   "execution_count": 95,
   "metadata": {},
   "outputs": [
    {
     "data": {
      "image/png": "[encoded data removed]",
      "text/plain": [
       "<Figure size 1008x576 with 2 Axes>"
      ]
     },
     "metadata": {
      "needs_background": "light"
     },
     "output_type": "display_data"
    }
   ],
   "source": [
    "# frequent tags\n",
    "tags_frequent = tags_df[tags_df>0.5]\n",
    "plt.figure(figsize=(14, 8))\n",
    "sns.heatmap(tags_frequent, annot = True)\n",
    "plt.show()"
   ]
  },
  {
   "cell_type": "markdown",
   "metadata": {},
   "source": [
    "### Vanilla Viterbi based POS tagger"
   ]
  },
  {
   "cell_type": "code",
   "execution_count": 36,
   "metadata": {},
   "outputs": [],
   "source": [
    "# Viterbi Heuristic\n",
    "def Vanilla_Viterbi(words, train_bag = train_tagged_words):\n",
    "    state = []\n",
    "    T = list(set([pair[1] for pair in train_bag]))\n",
    "    \n",
    "    for key, word in enumerate(words):\n",
    "      \n",
    "        p = [] \n",
    "        for tag in T:\n",
    "            if key == 0:\n",
    "                transition_p = tags_df.loc['.', tag]\n",
    "            else:\n",
    "                transition_p = tags_df.loc[state[-1], tag]\n",
    "                \n",
    "           \n",
    "            emission_p = word_given_tag(words[key], tag)[0]/word_given_tag(words[key], tag)[1]\n",
    "            state_probability = emission_p * transition_p    \n",
    "            p.append(state_probability)\n",
    "            \n",
    "        pmax = max(p)\n",
    "      \n",
    "        state_max = T[p.index(pmax)] \n",
    "        state.append(state_max)\n",
    "    return list(zip(words, state))"
   ]
  },
  {
   "cell_type": "code",
   "execution_count": 96,
   "metadata": {},
   "outputs": [],
   "source": [
    "# Running the Viterbi algorithm on a few sample sentences as it takes time to run entire data set\n",
    "\n",
    "random.seed(1234)\n",
    "\n",
    "# choose random 5 sents\n",
    "rnd = [random.randint(1,len(test_set)) for x in range(5)]\n",
    "\n",
    "# list of sents\n",
    "test_run = [test_set[i] for i in rnd]\n",
    "\n",
    "# list of tagged words\n",
    "test_run_base = [tup for sent in test_run for tup in sent]\n",
    "\n",
    "# list of untagged words\n",
    "test_tagged_words = [tup[0] for sent in test_run for tup in sent]\n",
    "\n",
    "tagged_seq = Vanilla_Viterbi(test_tagged_words)"
   ]
  },
  {
   "cell_type": "code",
   "execution_count": 97,
   "metadata": {},
   "outputs": [
    {
     "name": "stdout",
     "output_type": "stream",
     "text": [
      "Accuracy of Vanilla Viterbi Algorithm: - 0.8802395209580839\n"
     ]
    }
   ],
   "source": [
    "# Accuracy of the vanilla viterbi algorithm\n",
    "\n",
    "check = [i for i, j in zip(tagged_seq, test_run_base) if i == j]\n",
    "\n",
    "vanilla_viterbi_accuracy = len(check)/len(tagged_seq)\n",
    "\n",
    "print(\"Accuracy of Vanilla Viterbi Algorithm: -\", vanilla_viterbi_accuracy)"
   ]
  },
  {
   "cell_type": "code",
   "execution_count": 98,
   "metadata": {
    "scrolled": true
   },
   "outputs": [
    {
     "name": "stdout",
     "output_type": "stream",
     "text": [
      "20\n"
     ]
    },
    {
     "data": {
      "text/plain": [
       "[[('In', 'ADP'), (('1973', 'DET'), ('1973', 'NUM'))],\n",
       " [(',', '.'), (('Wells', 'DET'), ('Wells', 'NOUN'))],\n",
       " [('Wells', 'NOUN'), (('Fargo', 'DET'), ('Fargo', 'NOUN'))],\n",
       " [('which', 'DET'), (('*T*-198', 'DET'), ('*T*-198', 'X'))],\n",
       " [('free', 'ADJ'), (('checking', 'VERB'), ('checking', 'NOUN'))],\n",
       " [(',', '.'), (('safe-deposit', 'DET'), ('safe-deposit', 'ADJ'))],\n",
       " [('and', 'CONJ'), (('travelers', 'DET'), ('travelers', 'NOUN'))],\n",
       " [('to', 'PRT'), (('speak', 'DET'), ('speak', 'VERB'))],\n",
       " [('at', 'ADP'), (('theological', 'DET'), ('theological', 'ADJ'))],\n",
       " [('theological', 'ADJ'), (('colleges', 'DET'), ('colleges', 'NOUN'))],\n",
       " [('the', 'DET'), (('joys', 'DET'), ('joys', 'NOUN'))],\n",
       " [('bell', 'NOUN'), (('ringing', 'VERB'), ('ringing', 'NOUN'))],\n",
       " [('a', 'DET'), (('booklet', 'DET'), ('booklet', 'NOUN'))],\n",
       " [('country', 'NOUN'), (('entitled', 'DET'), ('entitled', 'VERB'))],\n",
       " [('The', 'DET'), (('Bells', 'DET'), ('Bells', 'NOUN'))],\n",
       " [('and', 'CONJ'), (('clothing', 'DET'), ('clothing', 'NOUN'))],\n",
       " [('interest', 'NOUN'), (('expense', 'DET'), ('expense', 'NOUN'))],\n",
       " [('expense', 'NOUN'), (('exceeds', 'DET'), ('exceeds', 'VERB'))],\n",
       " [('at', 'ADP'), (('879', 'DET'), ('879', 'NUM'))],\n",
       " [('$', '.'), (('13.90', 'DET'), ('13.90', 'NUM'))]]"
      ]
     },
     "execution_count": 98,
     "metadata": {},
     "output_type": "execute_result"
    }
   ],
   "source": [
    "# Incorrect tagged cases\n",
    "\n",
    "incorrect_tagged_cases = [[test_run_base[i-1],j] for i, j in enumerate(zip(tagged_seq, test_run_base)) if j[0]!=j[1]]\n",
    "print(len(incorrect_tagged_cases))\n",
    "incorrect_tagged_cases"
   ]
  },
  {
   "cell_type": "markdown",
   "metadata": {},
   "source": [
    "### Solve the problem of unknown words"
   ]
  },
  {
   "cell_type": "markdown",
   "metadata": {},
   "source": [
    "#### Unknown words are new to training data which are present only in test data and which were not included while running the alogrithm on train set. When the algorithm hits an unknown word, it naively assigns the first tag in the list of tags that we have created making it less accurate."
   ]
  },
  {
   "cell_type": "code",
   "execution_count": 42,
   "metadata": {},
   "outputs": [
    {
     "name": "stdout",
     "output_type": "stream",
     "text": [
      "Total Unknown words : 5\n",
      "\n",
      "\n",
      "Unknown Words : ['sticker', 'index-related', 'hauling', 'tightened', 'cushion']\n"
     ]
    }
   ],
   "source": [
    "# Unknown words \n",
    "\n",
    "test_vocabulary_set = set([t for t in test_tagged_words])\n",
    "\n",
    "unknown_words = list(test_vocabulary_set - train_vocabulary_set)\n",
    "print(\"Total Unknown words :\", len(unknown_words))\n",
    "print(\"\\n\")\n",
    "print(\"Unknown Words :\", unknown_words)"
   ]
  },
  {
   "cell_type": "markdown",
   "metadata": {},
   "source": [
    "# Technique 1"
   ]
  },
  {
   "cell_type": "markdown",
   "metadata": {},
   "source": [
    "### If word in unknown then consider only the transition_p as emission probability will be ZERO else consider both the emission and transition probability."
   ]
  },
  {
   "cell_type": "code",
   "execution_count": 99,
   "metadata": {},
   "outputs": [],
   "source": [
    "# Modified Viterbi Heuristic\n",
    "def Vanilla_Viterbi_for_Unknown_Words(words, train_bag = train_tagged_words):\n",
    "    state = []\n",
    "    T = list(set([pair[1] for pair in train_bag]))\n",
    "    \n",
    "    for key, word in enumerate(words):\n",
    "        #initialise list of probability column for a given observation\n",
    "        p = [] \n",
    "        for tag in T:\n",
    "            if key == 0:\n",
    "                transition_p = tags_df.loc['.', tag]\n",
    "            else:\n",
    "                transition_p = tags_df.loc[state[-1], tag]\n",
    "            emission_p = word_given_tag(words[key], tag)[0]/word_given_tag(words[key], tag)[1]\n",
    "            \n",
    "            if word not in train_vocabulary_set:\n",
    "                state_probability = transition_p\n",
    "            else:\n",
    "                state_probability = emission_p * transition_p\n",
    "                \n",
    "            p.append(state_probability) \n",
    "        pmax = max(p)\n",
    "        state_max = T[p.index(pmax)] \n",
    "        state.append(state_max)\n",
    "    return list(zip(words, state))"
   ]
  },
  {
   "cell_type": "code",
   "execution_count": 101,
   "metadata": {},
   "outputs": [
    {
     "name": "stdout",
     "output_type": "stream",
     "text": [
      "Accuracy of the Vanilla Viterbi Algorithm after modification to handle unknown words: - 0.9401197604790419\n"
     ]
    }
   ],
   "source": [
    "# Tag test sentences\n",
    "tagged_seq_unknown = Vanilla_Viterbi_for_Unknown_Words(test_tagged_words)\n",
    "\n",
    "# accuracy\n",
    "check_unknown = [i for i, j in zip(tagged_seq_unknown, test_run_base) if i == j]\n",
    "optimized_viterbi_accuracy = len(check_unknown)/len(tagged_seq_unknown)\n",
    "\n",
    "print(\"Accuracy of the Vanilla Viterbi Algorithm after handling unknown words: -\", optimized_viterbi_accuracy)"
   ]
  },
  {
   "cell_type": "markdown",
   "metadata": {},
   "source": [
    "### We can see an improvement in the accuracy after handling unknown words tagging"
   ]
  },
  {
   "cell_type": "markdown",
   "metadata": {},
   "source": [
    "## Unigram tagger"
   ]
  },
  {
   "cell_type": "code",
   "execution_count": 45,
   "metadata": {},
   "outputs": [
    {
     "name": "stdout",
     "output_type": "stream",
     "text": [
      "The accuracy of the Unigram Tagger is - 0.8935222672064778\n"
     ]
    }
   ],
   "source": [
    "# Unigram Tagger\n",
    "\n",
    "unigram_tagger = nltk.UnigramTagger(train_set)\n",
    "unigram_tagger_accuracy = unigram_tagger.evaluate(test_set)\n",
    "print(\"The accuracy of the Unigram Tagger is -\", unigram_tagger_accuracy)"
   ]
  },
  {
   "cell_type": "markdown",
   "metadata": {},
   "source": [
    "## Bigram tagger"
   ]
  },
  {
   "cell_type": "code",
   "execution_count": 102,
   "metadata": {},
   "outputs": [
    {
     "name": "stdout",
     "output_type": "stream",
     "text": [
      "The accuracy of the Unigram Tagger is - 0.17734553775743708\n"
     ]
    }
   ],
   "source": [
    "# Bigram Tagger\n",
    "\n",
    "bigram_tagger = nltk.BigramTagger(train_set)\n",
    "bigram_tagger_accuracy = bigram_tagger.evaluate(test_set)\n",
    "print(\"The accuracy of the Unigram Tagger is -\", bigram_tagger_accuracy)"
   ]
  },
  {
   "cell_type": "markdown",
   "metadata": {},
   "source": [
    "## Unigram tagger with backoff as rule_based_tagger"
   ]
  },
  {
   "cell_type": "code",
   "execution_count": 103,
   "metadata": {},
   "outputs": [],
   "source": [
    "# patterns for tagging using a rule based regex tagger -\n",
    "\n",
    "patterns = [\n",
    "    (r'^[aA-zZ].*[0-9]+','NOUN'),  \n",
    "    (r'.*ness$', 'NOUN'),\n",
    "    (r'.*\\'s$', 'NOUN'),              \n",
    "    (r'.*s$', 'NOUN'),                \n",
    "    (r'.*', 'NOUN'),    \n",
    "    (r'.*ly$', 'ADV'),\n",
    "    (r'^(0|([*|-|$].*))','X'),\n",
    "    (r'.*ould$', 'X'), \n",
    "    (r'(The|the|A|a|An|an)$', 'DET'),\n",
    "    (r'^([0-9]|[aA-zZ])+\\-[aA-zZ]*$','ADJ'),\n",
    "    (r'.*able$', 'ADJ'), \n",
    "    (r'[aA-zZ]+(ed|ing|es)$', 'VERB'), \n",
    "    (r'[0-9].?[,\\/]?[0-9]*','NUM')\n",
    "    ]"
   ]
  },
  {
   "cell_type": "code",
   "execution_count": 104,
   "metadata": {},
   "outputs": [
    {
     "name": "stdout",
     "output_type": "stream",
     "text": [
      "Accuracy of the Unigram Tagger backed up by the RegexpTagger:- 0.9282990083905416\n"
     ]
    }
   ],
   "source": [
    "# RegexpTagger\n",
    "\n",
    "rule_based_tagger = nltk.RegexpTagger(patterns)\n",
    "\n",
    "# unigram tagger backed up by the rule-based tagger\n",
    "rule_based_unigram_tagger = nltk.UnigramTagger(train_set, backoff = rule_based_tagger)\n",
    "\n",
    "accuracy_rule_based_unigram_tagger = rule_based_unigram_tagger.evaluate(test_set)\n",
    "\n",
    "print(\"Accuracy of the Unigram Tagger backed up by the RegexpTagger:-\", accuracy_rule_based_unigram_tagger)"
   ]
  },
  {
   "cell_type": "markdown",
   "metadata": {},
   "source": [
    "## Bigram tagger with backoff as rule_based_unigram_tagger"
   ]
  },
  {
   "cell_type": "code",
   "execution_count": 111,
   "metadata": {},
   "outputs": [
    {
     "name": "stdout",
     "output_type": "stream",
     "text": [
      "Accuracy of the Bigram Tagger backed up by the rule_based_unigram_tagger:- 0.9305873379099924\n"
     ]
    }
   ],
   "source": [
    "# Bigram tagger with backoff as rule_based_unigram_tagger\n",
    "\n",
    "rule_based_bigram_tagger = nltk.BigramTagger(train_set, backoff = rule_based_unigram_tagger)\n",
    "rule_based_bigram_tagger.evaluate(test_set)\n",
    "accuracy_rule_based_bigram_tagger = rule_based_bigram_tagger.evaluate(test_set)\n",
    "print(\"Accuracy of the Bigram Tagger backed up by the rule_based_unigram_tagger:-\", accuracy_rule_based_bigram_tagger)"
   ]
  },
  {
   "cell_type": "markdown",
   "metadata": {},
   "source": [
    "## Trigram tagger with backoff as  rule_based_bigram_tagger"
   ]
  },
  {
   "cell_type": "code",
   "execution_count": 131,
   "metadata": {},
   "outputs": [
    {
     "name": "stdout",
     "output_type": "stream",
     "text": [
      "Accuracy of the Trigram Tagger backed up by the bigram_tagger is:- 0.9302059496567505\n"
     ]
    }
   ],
   "source": [
    "# trigram tagger\n",
    "\n",
    "trigram_tagger = nltk.TrigramTagger(train_set, backoff = rule_based_bigram_tagger)\n",
    "trigram_tagger.evaluate(test_set)\n",
    "accuracy_trigram_tagger = trigram_tagger.evaluate(test_set)\n",
    "print(\"Accuracy of the Trigram Tagger backed up by the bigram_tagger is:-\", accuracy_trigram_tagger)"
   ]
  },
  {
   "cell_type": "markdown",
   "metadata": {},
   "source": [
    "## Bigram tagger with backoff as regex_based_tagger i.e the rule based tagger"
   ]
  },
  {
   "cell_type": "code",
   "execution_count": 107,
   "metadata": {},
   "outputs": [],
   "source": [
    "# trigram tagger backed off by a rule based tagger.\n",
    "\n",
    "def trigram_tagger(word, train_set = train_set):\n",
    "    \n",
    "    patterns = [\n",
    "    (r'[aA-zZ]+(ed|ing|es)$', 'VERB'), \n",
    "    (r'.*ly$', 'ADV'),\n",
    "        \n",
    "    (r'^([0-9]|[aA-zZ])+\\-[aA-zZ]*$','ADJ'),\n",
    "    (r'.*able$', 'ADJ'), \n",
    "    (r'.*ful$', 'ADJ'),\n",
    "    (r'.*ous$', 'ADJ'),\n",
    "        \n",
    "    (r'^[aA-zZ].*[0-9]+','NOUN'),     \n",
    "    (r'.*ness$', 'NOUN'),\n",
    "    (r'.*\\'s$', 'NOUN'),             \n",
    "    (r'.*s$', 'NOUN'),               \n",
    "    (r'.*ers$', 'NOUN'),             \n",
    "    (r'.*ment$', 'NOUN'),\n",
    "    (r'.*town$', 'NOUN'),\n",
    "        \n",
    "    (r'^(0|([*|-|$].*))','X'), \n",
    "    (r'.*ould$', 'X'),\n",
    "        \n",
    "    (r'(The|the|A|a|An|an|That|that|This|this|Those|those|These|these)$', 'DET'), \n",
    "    (r'[0-9].?[,\\/]?[0-9]*','NUM'),\n",
    "        \n",
    "    (r'.*', 'NOUN')\n",
    "    ]\n",
    "\n",
    "    regex_based_tagger = nltk.RegexpTagger(patterns)\n",
    "    # Regex tagger\n",
    "    trigram_regex_tagger = nltk.TrigramTagger(train_set, backoff = regex_based_tagger)\n",
    "    return trigram_regex_tagger.tag_sents([[(word)]])"
   ]
  },
  {
   "cell_type": "markdown",
   "metadata": {},
   "source": [
    "# Technique 2"
   ]
  },
  {
   "cell_type": "markdown",
   "metadata": {},
   "source": [
    "## Viterbi with backoff as trigram_tagger"
   ]
  },
  {
   "cell_type": "code",
   "execution_count": 108,
   "metadata": {},
   "outputs": [],
   "source": [
    "def viterbi_backedup_by_trigram_tagger(words, train_bag = train_tagged_words):\n",
    "    state = []\n",
    "    tag_set = list(set([pair[1] for pair in train_bag]))\n",
    "    \n",
    "    # use the trigram tagger backed up by the rule based tagger\n",
    "    # for unknown words.\n",
    "    for key, word in enumerate(words):\n",
    "        if word not in train_vocabulary_set:\n",
    "            unknown_word_tag = trigram_tagger(word)\n",
    "            for sent in unknown_word_tag:\n",
    "                for tup in sent:\n",
    "                    state.append(tup[1])\n",
    "        else:            \n",
    "            p = [] \n",
    "            for tag in tag_set:\n",
    "                if key == 0:\n",
    "                    transition_p = tags_df.loc['.', tag]\n",
    "                else:\n",
    "                    transition_p = tags_df.loc[state[-1], tag]\n",
    "                \n",
    "                emission_p = word_given_tag(words[key], tag)[0]/word_given_tag(words[key], tag)[1]\n",
    "                state_probability = emission_p * transition_p    \n",
    "                p.append(state_probability)\n",
    "            \n",
    "            pmax = max(p)\n",
    "   \n",
    "            state_max = tag_set[p.index(pmax)] \n",
    "            state.append(state_max)\n",
    "    return list(zip(words, state))"
   ]
  },
  {
   "cell_type": "code",
   "execution_count": 109,
   "metadata": {},
   "outputs": [
    {
     "name": "stdout",
     "output_type": "stream",
     "text": [
      "Accuracy of the viterbi_backedup_by_trigram_tagger:- 0.9580838323353293\n"
     ]
    }
   ],
   "source": [
    "# Tag test sentences\n",
    "viterbi_trigram_tagged_seq = viterbi_backedup_by_trigram_tagger(test_tagged_words)\n",
    "\n",
    "# accuracy\n",
    "viterbi_trigram_word_check = [i for i, j in zip(viterbi_trigram_tagged_seq, test_run_base) if i == j]\n",
    "viterbi_trigram_accuracy = len(viterbi_trigram_word_check)/len(viterbi_trigram_tagged_seq)\n",
    "\n",
    "print(\"Accuracy of the viterbi_backedup_by_trigram_tagger:-\", viterbi_trigram_accuracy)"
   ]
  },
  {
   "cell_type": "markdown",
   "metadata": {},
   "source": [
    "#### Evaluating tagging accuracy"
   ]
  },
  {
   "cell_type": "code",
   "execution_count": 112,
   "metadata": {},
   "outputs": [
    {
     "data": {
      "text/html": [
       "<div>\n",
       "<style scoped>\n",
       "    .dataframe tbody tr th:only-of-type {\n",
       "        vertical-align: middle;\n",
       "    }\n",
       "\n",
       "    .dataframe tbody tr th {\n",
       "        vertical-align: top;\n",
       "    }\n",
       "\n",
       "    .dataframe thead th {\n",
       "        text-align: right;\n",
       "    }\n",
       "</style>\n",
       "<table border=\"1\" class=\"dataframe\">\n",
       "  <thead>\n",
       "    <tr style=\"text-align: right;\">\n",
       "      <th></th>\n",
       "      <th>Tagging_Accuracy</th>\n",
       "    </tr>\n",
       "    <tr>\n",
       "      <th>Tagging_Algorithm</th>\n",
       "      <th></th>\n",
       "    </tr>\n",
       "  </thead>\n",
       "  <tbody>\n",
       "    <tr>\n",
       "      <th>Vanilla Viterbi</th>\n",
       "      <td>88.023952</td>\n",
       "    </tr>\n",
       "    <tr>\n",
       "      <th>Optimized Vanilla Viterbi</th>\n",
       "      <td>94.011976</td>\n",
       "    </tr>\n",
       "    <tr>\n",
       "      <th>Unigram Tagger</th>\n",
       "      <td>89.352227</td>\n",
       "    </tr>\n",
       "    <tr>\n",
       "      <th>Bigram Tagger</th>\n",
       "      <td>17.734554</td>\n",
       "    </tr>\n",
       "    <tr>\n",
       "      <th>Unigram + RegexpTagger</th>\n",
       "      <td>92.829901</td>\n",
       "    </tr>\n",
       "    <tr>\n",
       "      <th>Bigram Tagger + Unigram_tagger</th>\n",
       "      <td>93.058734</td>\n",
       "    </tr>\n",
       "    <tr>\n",
       "      <th>Trigram Tagger + Bigram_tagger</th>\n",
       "      <td>93.020595</td>\n",
       "    </tr>\n",
       "    <tr>\n",
       "      <th>Viterbi + Trigram_tagger</th>\n",
       "      <td>95.808383</td>\n",
       "    </tr>\n",
       "  </tbody>\n",
       "</table>\n",
       "</div>"
      ],
      "text/plain": [
       "                                Tagging_Accuracy\n",
       "Tagging_Algorithm                               \n",
       "Vanilla Viterbi                        88.023952\n",
       "Optimized Vanilla Viterbi              94.011976\n",
       "Unigram Tagger                         89.352227\n",
       "Bigram Tagger                          17.734554\n",
       "Unigram + RegexpTagger                 92.829901\n",
       "Bigram Tagger + Unigram_tagger         93.058734\n",
       "Trigram Tagger + Bigram_tagger         93.020595\n",
       "Viterbi + Trigram_tagger               95.808383"
      ]
     },
     "execution_count": 112,
     "metadata": {},
     "output_type": "execute_result"
    }
   ],
   "source": [
    "acccuracy_data = [['Vanilla Viterbi', vanilla_viterbi_accuracy*100], \n",
    "                  ['Optimized Vanilla Viterbi', optimized_viterbi_accuracy*100], \n",
    "                  ['Unigram Tagger', unigram_tagger_accuracy*100],\n",
    "                  ['Bigram Tagger', bigram_tagger_accuracy*100],\n",
    "                  ['Unigram + RegexpTagger', accuracy_rule_based_unigram_tagger*100],\n",
    "                  ['Bigram Tagger + Unigram_tagger', accuracy_rule_based_bigram_tagger*100],\n",
    "                  ['Trigram Tagger + Bigram_tagger', accuracy_trigram_tagger*100],\n",
    "                  ['Viterbi + Trigram_tagger', viterbi_trigram_accuracy*100]]\n",
    "\n",
    "acccuracy_data_df = pd.DataFrame(acccuracy_data, columns = ['Tagging_Algorithm', 'Tagging_Accuracy'])\n",
    "acccuracy_data_df.set_index('Tagging_Algorithm', drop = True, inplace = True)\n",
    "acccuracy_data_df"
   ]
  },
  {
   "cell_type": "markdown",
   "metadata": {},
   "source": [
    "### Compare the tagging accuracies of the modifications with the vanilla Viterbi algorithm"
   ]
  },
  {
   "cell_type": "code",
   "execution_count": 57,
   "metadata": {},
   "outputs": [
    {
     "data": {
      "text/plain": [
       "<matplotlib.axes._subplots.AxesSubplot at 0x1f7af98e880>"
      ]
     },
     "execution_count": 57,
     "metadata": {},
     "output_type": "execute_result"
    },
    {
     "data": {
      "image/png": "[encoded data removed]",
      "text/plain": [
       "<Figure size 432x288 with 1 Axes>"
      ]
     },
     "metadata": {
      "needs_background": "light"
     },
     "output_type": "display_data"
    }
   ],
   "source": [
    "acccuracy_data_df.plot.line(rot = 90, legend = False)"
   ]
  },
  {
   "cell_type": "markdown",
   "metadata": {},
   "source": [
    "# Validating on sample test sentences provided"
   ]
  },
  {
   "cell_type": "code",
   "execution_count": 113,
   "metadata": {},
   "outputs": [],
   "source": [
    "sample_test_sentences = ['Android is a mobile operating system developed by Google.',\n",
    "\"Android has been the best-selling OS worldwide on smartphones since 2011 and on tablets since 2013.\",\n",
    "\"Google and Twitter made a deal in 2015 that gave Google access to Twitter's firehose.\",\n",
    "\"Twitter is an online news and social networking service on which users post and interact with messages known as tweets.\",\n",
    "\"Before entering politics, Donald Trump was a domineering businessman and a television personality.\",\n",
    "\"The 2018 FIFA World Cup is the 21st FIFA World Cup, an international football tournament contested once every four years.\",\n",
    "\"This is the first World Cup to be held in Eastern Europe and the 11th time that it has been held in Europe.\",\n",
    "\"Show me the cheapest round trips from Dallas to Atlanta\",\n",
    "\"I would like to see flights from Denver to Philadelphia.\",\n",
    "\"Show me the price of the flights leaving Atlanta at about 3 in the afternoon and arriving in San Francisco.\",\n",
    "\"NASA invited social media users to experience the launch of ICESAT-2 Satellite.\"]"
   ]
  },
  {
   "cell_type": "code",
   "execution_count": 114,
   "metadata": {},
   "outputs": [
    {
     "data": {
      "text/plain": [
       "[[('Android', 'NOUN'),\n",
       "  ('is', 'VERB'),\n",
       "  ('a', 'DET'),\n",
       "  ('mobile', 'ADJ'),\n",
       "  ('operating', 'NOUN'),\n",
       "  ('system', 'NOUN'),\n",
       "  ('developed', 'VERB'),\n",
       "  ('by', 'ADP'),\n",
       "  ('Google', 'NOUN'),\n",
       "  ('.', '.')],\n",
       " [('Android', 'NOUN'),\n",
       "  ('has', 'VERB'),\n",
       "  ('been', 'VERB'),\n",
       "  ('the', 'DET'),\n",
       "  ('best-selling', 'ADJ'),\n",
       "  ('OS', 'NOUN'),\n",
       "  ('worldwide', 'NOUN'),\n",
       "  ('on', 'ADP'),\n",
       "  ('smartphones', 'NOUN'),\n",
       "  ('since', 'ADP'),\n",
       "  ('2011', 'NUM'),\n",
       "  ('and', 'CONJ'),\n",
       "  ('on', 'ADP'),\n",
       "  ('tablets', 'NOUN'),\n",
       "  ('since', 'ADP'),\n",
       "  ('2013', 'NUM'),\n",
       "  ('.', '.')],\n",
       " [('Google', 'NOUN'),\n",
       "  ('and', 'CONJ'),\n",
       "  ('Twitter', 'NOUN'),\n",
       "  ('made', 'VERB'),\n",
       "  ('a', 'DET'),\n",
       "  ('deal', 'NOUN'),\n",
       "  ('in', 'ADP'),\n",
       "  ('2015', 'NUM'),\n",
       "  ('that', 'DET'),\n",
       "  ('gave', 'VERB'),\n",
       "  ('Google', 'NOUN'),\n",
       "  ('access', 'NOUN'),\n",
       "  ('to', 'PRT'),\n",
       "  ('Twitter', 'NOUN'),\n",
       "  (\"'s\", 'PRT'),\n",
       "  ('firehose', 'NOUN'),\n",
       "  ('.', '.')],\n",
       " [('Twitter', 'NOUN'),\n",
       "  ('is', 'VERB'),\n",
       "  ('an', 'DET'),\n",
       "  ('online', 'ADJ'),\n",
       "  ('news', 'NOUN'),\n",
       "  ('and', 'CONJ'),\n",
       "  ('social', 'ADJ'),\n",
       "  ('networking', 'NOUN'),\n",
       "  ('service', 'NOUN'),\n",
       "  ('on', 'ADP'),\n",
       "  ('which', 'DET'),\n",
       "  ('users', 'NOUN'),\n",
       "  ('post', 'NOUN'),\n",
       "  ('and', 'CONJ'),\n",
       "  ('interact', 'NOUN'),\n",
       "  ('with', 'ADP'),\n",
       "  ('messages', 'NOUN'),\n",
       "  ('known', 'VERB'),\n",
       "  ('as', 'ADP'),\n",
       "  ('tweets', 'NOUN'),\n",
       "  ('.', '.')],\n",
       " [('Before', 'ADP'),\n",
       "  ('entering', 'VERB'),\n",
       "  ('politics', 'NOUN'),\n",
       "  (',', '.'),\n",
       "  ('Donald', 'NOUN'),\n",
       "  ('Trump', 'NOUN'),\n",
       "  ('was', 'VERB'),\n",
       "  ('a', 'DET'),\n",
       "  ('domineering', 'ADJ'),\n",
       "  ('businessman', 'NOUN'),\n",
       "  ('and', 'CONJ'),\n",
       "  ('a', 'DET'),\n",
       "  ('television', 'NOUN'),\n",
       "  ('personality', 'NOUN'),\n",
       "  ('.', '.')],\n",
       " [('The', 'DET'),\n",
       "  ('2018', 'NUM'),\n",
       "  ('FIFA', 'NOUN'),\n",
       "  ('World', 'NOUN'),\n",
       "  ('Cup', 'NOUN'),\n",
       "  ('is', 'VERB'),\n",
       "  ('the', 'DET'),\n",
       "  ('21st', 'NUM'),\n",
       "  ('FIFA', 'NOUN'),\n",
       "  ('World', 'NOUN'),\n",
       "  ('Cup', 'NOUN'),\n",
       "  (',', '.'),\n",
       "  ('an', 'DET'),\n",
       "  ('international', 'ADJ'),\n",
       "  ('football', 'NOUN'),\n",
       "  ('tournament', 'NOUN'),\n",
       "  ('contested', 'VERB'),\n",
       "  ('once', 'ADV'),\n",
       "  ('every', 'DET'),\n",
       "  ('four', 'NUM'),\n",
       "  ('years', 'NOUN'),\n",
       "  ('.', '.')],\n",
       " [('This', 'DET'),\n",
       "  ('is', 'VERB'),\n",
       "  ('the', 'DET'),\n",
       "  ('first', 'ADJ'),\n",
       "  ('World', 'NOUN'),\n",
       "  ('Cup', 'NOUN'),\n",
       "  ('to', 'PRT'),\n",
       "  ('be', 'VERB'),\n",
       "  ('held', 'VERB'),\n",
       "  ('in', 'ADP'),\n",
       "  ('Eastern', 'NOUN'),\n",
       "  ('Europe', 'NOUN'),\n",
       "  ('and', 'CONJ'),\n",
       "  ('the', 'DET'),\n",
       "  ('11th', 'NUM'),\n",
       "  ('time', 'NOUN'),\n",
       "  ('that', 'ADP'),\n",
       "  ('it', 'PRON'),\n",
       "  ('has', 'VERB'),\n",
       "  ('been', 'VERB'),\n",
       "  ('held', 'VERB'),\n",
       "  ('in', 'ADP'),\n",
       "  ('Europe', 'NOUN'),\n",
       "  ('.', '.')],\n",
       " [('Show', 'VERB'),\n",
       "  ('me', 'PRON'),\n",
       "  ('the', 'DET'),\n",
       "  ('cheapest', 'ADJ'),\n",
       "  ('round', 'NOUN'),\n",
       "  ('trips', 'NOUN'),\n",
       "  ('from', 'ADP'),\n",
       "  ('Dallas', 'NOUN'),\n",
       "  ('to', 'PRT'),\n",
       "  ('Atlanta', 'VERB')],\n",
       " [('I', 'PRON'),\n",
       "  ('would', 'VERB'),\n",
       "  ('like', 'VERB'),\n",
       "  ('to', 'PRT'),\n",
       "  ('see', 'VERB'),\n",
       "  ('flights', 'NOUN'),\n",
       "  ('from', 'ADP'),\n",
       "  ('Denver', 'NOUN'),\n",
       "  ('to', 'PRT'),\n",
       "  ('Philadelphia', 'NOUN'),\n",
       "  ('.', '.')],\n",
       " [('Show', 'VERB'),\n",
       "  ('me', 'PRON'),\n",
       "  ('the', 'DET'),\n",
       "  ('price', 'NOUN'),\n",
       "  ('of', 'ADP'),\n",
       "  ('the', 'DET'),\n",
       "  ('flights', 'NOUN'),\n",
       "  ('leaving', 'VERB'),\n",
       "  ('Atlanta', 'NOUN'),\n",
       "  ('at', 'ADP'),\n",
       "  ('about', 'ADV'),\n",
       "  ('3', 'NUM'),\n",
       "  ('in', 'ADP'),\n",
       "  ('the', 'DET'),\n",
       "  ('afternoon', 'NOUN'),\n",
       "  ('and', 'CONJ'),\n",
       "  ('arriving', 'NOUN'),\n",
       "  ('in', 'ADP'),\n",
       "  ('San', 'NOUN'),\n",
       "  ('Francisco', 'NOUN'),\n",
       "  ('.', '.')],\n",
       " [('NASA', 'NOUN'),\n",
       "  ('invited', 'VERB'),\n",
       "  ('social', 'ADJ'),\n",
       "  ('media', 'NOUN'),\n",
       "  ('users', 'NOUN'),\n",
       "  ('to', 'PRT'),\n",
       "  ('experience', 'VERB'),\n",
       "  ('the', 'DET'),\n",
       "  ('launch', 'NOUN'),\n",
       "  ('of', 'ADP'),\n",
       "  ('ICESAT-2', 'NOUN'),\n",
       "  ('Satellite', 'NOUN'),\n",
       "  ('.', '.')]]"
      ]
     },
     "execution_count": 114,
     "metadata": {},
     "output_type": "execute_result"
    }
   ],
   "source": [
    "sample_test_tokenized_sents = [word_tokenize(sent) for sent in sample_test_sentences]\n",
    "sample_test_corpus_pos_tags = nltk.pos_tag_sents(sample_test_tokenized_sents, tagset = 'universal')\n",
    "sample_test_corpus_pos_tags"
   ]
  },
  {
   "cell_type": "code",
   "execution_count": 115,
   "metadata": {},
   "outputs": [],
   "source": [
    "# list of untagged words from the sample test data provided\n",
    "sample_test_tagged_words = [tup[0] for sent in sample_test_corpus_pos_tags for tup in sent]\n",
    "\n",
    "# list of tagged words\n",
    "sample_test_test_run_base = [tup for sent in sample_test_corpus_pos_tags for tup in sent]"
   ]
  },
  {
   "cell_type": "code",
   "execution_count": 116,
   "metadata": {},
   "outputs": [
    {
     "data": {
      "text/plain": [
       "['Android',\n",
       " 'is',\n",
       " 'a',\n",
       " 'mobile',\n",
       " 'operating',\n",
       " 'system',\n",
       " 'developed',\n",
       " 'by',\n",
       " 'Google',\n",
       " '.',\n",
       " 'Android',\n",
       " 'has',\n",
       " 'been',\n",
       " 'the',\n",
       " 'best-selling',\n",
       " 'OS',\n",
       " 'worldwide',\n",
       " 'on',\n",
       " 'smartphones',\n",
       " 'since',\n",
       " '2011',\n",
       " 'and',\n",
       " 'on',\n",
       " 'tablets',\n",
       " 'since',\n",
       " '2013',\n",
       " '.',\n",
       " 'Google',\n",
       " 'and',\n",
       " 'Twitter',\n",
       " 'made',\n",
       " 'a',\n",
       " 'deal',\n",
       " 'in',\n",
       " '2015',\n",
       " 'that',\n",
       " 'gave',\n",
       " 'Google',\n",
       " 'access',\n",
       " 'to',\n",
       " 'Twitter',\n",
       " \"'s\",\n",
       " 'firehose',\n",
       " '.',\n",
       " 'Twitter',\n",
       " 'is',\n",
       " 'an',\n",
       " 'online',\n",
       " 'news',\n",
       " 'and',\n",
       " 'social',\n",
       " 'networking',\n",
       " 'service',\n",
       " 'on',\n",
       " 'which',\n",
       " 'users',\n",
       " 'post',\n",
       " 'and',\n",
       " 'interact',\n",
       " 'with',\n",
       " 'messages',\n",
       " 'known',\n",
       " 'as',\n",
       " 'tweets',\n",
       " '.',\n",
       " 'Before',\n",
       " 'entering',\n",
       " 'politics',\n",
       " ',',\n",
       " 'Donald',\n",
       " 'Trump',\n",
       " 'was',\n",
       " 'a',\n",
       " 'domineering',\n",
       " 'businessman',\n",
       " 'and',\n",
       " 'a',\n",
       " 'television',\n",
       " 'personality',\n",
       " '.',\n",
       " 'The',\n",
       " '2018',\n",
       " 'FIFA',\n",
       " 'World',\n",
       " 'Cup',\n",
       " 'is',\n",
       " 'the',\n",
       " '21st',\n",
       " 'FIFA',\n",
       " 'World',\n",
       " 'Cup',\n",
       " ',',\n",
       " 'an',\n",
       " 'international',\n",
       " 'football',\n",
       " 'tournament',\n",
       " 'contested',\n",
       " 'once',\n",
       " 'every',\n",
       " 'four',\n",
       " 'years',\n",
       " '.',\n",
       " 'This',\n",
       " 'is',\n",
       " 'the',\n",
       " 'first',\n",
       " 'World',\n",
       " 'Cup',\n",
       " 'to',\n",
       " 'be',\n",
       " 'held',\n",
       " 'in',\n",
       " 'Eastern',\n",
       " 'Europe',\n",
       " 'and',\n",
       " 'the',\n",
       " '11th',\n",
       " 'time',\n",
       " 'that',\n",
       " 'it',\n",
       " 'has',\n",
       " 'been',\n",
       " 'held',\n",
       " 'in',\n",
       " 'Europe',\n",
       " '.',\n",
       " 'Show',\n",
       " 'me',\n",
       " 'the',\n",
       " 'cheapest',\n",
       " 'round',\n",
       " 'trips',\n",
       " 'from',\n",
       " 'Dallas',\n",
       " 'to',\n",
       " 'Atlanta',\n",
       " 'I',\n",
       " 'would',\n",
       " 'like',\n",
       " 'to',\n",
       " 'see',\n",
       " 'flights',\n",
       " 'from',\n",
       " 'Denver',\n",
       " 'to',\n",
       " 'Philadelphia',\n",
       " '.',\n",
       " 'Show',\n",
       " 'me',\n",
       " 'the',\n",
       " 'price',\n",
       " 'of',\n",
       " 'the',\n",
       " 'flights',\n",
       " 'leaving',\n",
       " 'Atlanta',\n",
       " 'at',\n",
       " 'about',\n",
       " '3',\n",
       " 'in',\n",
       " 'the',\n",
       " 'afternoon',\n",
       " 'and',\n",
       " 'arriving',\n",
       " 'in',\n",
       " 'San',\n",
       " 'Francisco',\n",
       " '.',\n",
       " 'NASA',\n",
       " 'invited',\n",
       " 'social',\n",
       " 'media',\n",
       " 'users',\n",
       " 'to',\n",
       " 'experience',\n",
       " 'the',\n",
       " 'launch',\n",
       " 'of',\n",
       " 'ICESAT-2',\n",
       " 'Satellite',\n",
       " '.']"
      ]
     },
     "execution_count": 116,
     "metadata": {},
     "output_type": "execute_result"
    }
   ],
   "source": [
    "sample_test_tagged_words"
   ]
  },
  {
   "cell_type": "markdown",
   "metadata": {},
   "source": [
    "### List down cases which were incorrectly tagged by original POS tagger and got corrected by your modifications"
   ]
  },
  {
   "cell_type": "markdown",
   "metadata": {},
   "source": [
    "### 1. Testing the accuracy of Vanilla Viterbi on Sample test data"
   ]
  },
  {
   "cell_type": "code",
   "execution_count": 117,
   "metadata": {},
   "outputs": [
    {
     "name": "stdout",
     "output_type": "stream",
     "text": [
      "Accuracy of the Vanilla Viterbi Algorithm on the sample test data:- 0.7513812154696132\n"
     ]
    }
   ],
   "source": [
    "# tag test sentences\n",
    "sample_test_tagged_seq = Vanilla_Viterbi(sample_test_tagged_words)\n",
    "\n",
    "# Accuracy of the vanilla viterbi algorithm\n",
    "sample_test_check = [i for i, j in zip(sample_test_tagged_seq, sample_test_test_run_base) if i == j]\n",
    "vanilla_viterbi_accuracy_on_sample_test_data = len(sample_test_check)/len(sample_test_tagged_seq)\n",
    "print(\"Accuracy of the Vanilla Viterbi Algorithm on the Sample test data:-\", vanilla_viterbi_accuracy_on_sample_test_data)"
   ]
  },
  {
   "cell_type": "markdown",
   "metadata": {},
   "source": [
    "### 2. Testing the accuracy of Vanilla_Viterbi_for_Unknown_Words on Sample test data"
   ]
  },
  {
   "cell_type": "code",
   "execution_count": 118,
   "metadata": {},
   "outputs": [
    {
     "name": "stdout",
     "output_type": "stream",
     "text": [
      "Accuracy of the Vanilla_Viterbi_for_Unknown_Words on the sample test data:- 0.861878453038674\n"
     ]
    }
   ],
   "source": [
    "# tag the test sentences\n",
    "sample_test_unknown_word_tagged_seq = Vanilla_Viterbi_for_Unknown_Words(sample_test_tagged_words)\n",
    "# accuracy\n",
    "sample_test_unknown_word_check = [i for i, j in zip(sample_test_unknown_word_tagged_seq, sample_test_test_run_base) if i == j]\n",
    "sample_test_optimized_viterbi_accuracy = len(sample_test_unknown_word_check)/len(sample_test_unknown_word_tagged_seq)\n",
    "\n",
    "print(\"Accuracy of the Vanilla_Viterbi_for_Unknown_Words on the sample test data:-\", sample_test_optimized_viterbi_accuracy)"
   ]
  },
  {
   "cell_type": "markdown",
   "metadata": {},
   "source": [
    "### 3. Testing the accuracy of viterbi_backedup_by_trigram_tagger on Sample test data "
   ]
  },
  {
   "cell_type": "code",
   "execution_count": 119,
   "metadata": {},
   "outputs": [
    {
     "name": "stdout",
     "output_type": "stream",
     "text": [
      "The accuracy of the viterbi_backedup_by_trigram_tagger on the sample test data is - 0.9281767955801105\n"
     ]
    }
   ],
   "source": [
    "# tag  test sentences\n",
    "sample_test_viterbi_trigram_tagged_seq = viterbi_backedup_by_trigram_tagger(sample_test_tagged_words)\n",
    "\n",
    "# accuracy\n",
    "sample_test_viterbi_trigram_check = [i for i, j in zip(sample_test_viterbi_trigram_tagged_seq, sample_test_test_run_base) if i == j]\n",
    "\n",
    "sample_test_viterbi_trigram_accuracy = len(sample_test_viterbi_trigram_check)/len(sample_test_viterbi_trigram_tagged_seq)\n",
    "\n",
    "print(\"The accuracy of the viterbi_backedup_by_trigram_tagger on the sample test data is -\", sample_test_viterbi_trigram_accuracy)"
   ]
  },
  {
   "cell_type": "markdown",
   "metadata": {},
   "source": [
    "## Apparently Viterbi backed up by trigram_tagger perfomed well with higher accuracy followed by Viterbi that handled unknown words"
   ]
  },
  {
   "cell_type": "code",
   "execution_count": 129,
   "metadata": {},
   "outputs": [],
   "source": [
    "# test sentences to list down all the words that were properly tagged after modifications\n",
    "\n",
    "sample_sentence_1 = 'Android is a mobile operating system developed by Google.'\n",
    "sample_sentence_2 = 'Twitter is an online news and social networking service on which users post and interact with messages known as tweets.'\n",
    "sample_sentence_3 = \"Show me the price of the flights leaving Atlanta at about 3 in the afternoon and arriving in San Francisco.\"\n"
   ]
  },
  {
   "cell_type": "markdown",
   "metadata": {},
   "source": [
    "## Case1"
   ]
  },
  {
   "cell_type": "code",
   "execution_count": 124,
   "metadata": {},
   "outputs": [
    {
     "name": "stdout",
     "output_type": "stream",
     "text": [
      "Tagging sequence with Vanilla_Viterbi -\n",
      "\n",
      " [('Android', 'DET'), ('is', 'VERB'), ('a', 'DET'), ('mobile', 'ADJ'), ('operating', 'NOUN'), ('system', 'NOUN'), ('developed', 'VERB'), ('by', 'ADP'), ('Google', 'DET'), ('.', '.')]\n",
      "\n",
      "\n",
      "Tagging sequence with Vanilla_Viterbi after handling unknown words -\n",
      "\n",
      " [('Android', 'NOUN'), ('is', 'VERB'), ('a', 'DET'), ('mobile', 'ADJ'), ('operating', 'NOUN'), ('system', 'NOUN'), ('developed', 'VERB'), ('by', 'ADP'), ('Google', 'DET'), ('.', '.')]\n",
      "\n",
      "\n",
      "Tagging sequence with viterbi_backedup_by_trigram_tagger -\n",
      "\n",
      " [('Android', 'NOUN'), ('is', 'VERB'), ('a', 'DET'), ('mobile', 'ADJ'), ('operating', 'NOUN'), ('system', 'NOUN'), ('developed', 'VERB'), ('by', 'ADP'), ('Google', 'NOUN'), ('.', '.')]\n"
     ]
    }
   ],
   "source": [
    "\n",
    "words_sample_sentence_1 = nltk.word_tokenize(sample_sentence_1)\n",
    "\n",
    "# pos tagging with Vanilla_Viterbi\n",
    "pos_tagged_sequence_with_vanilla_viterbi1 = Vanilla_Viterbi(words_sample_sentence_1)\n",
    "print(\"Tagging sequence with Vanilla_Viterbi -\\n\\n\", pos_tagged_sequence_with_vanilla_viterbi1)\n",
    "\n",
    "print('\\n')\n",
    "\n",
    "# pos tagging with Vanilla_Viterbi\n",
    "pos_tagged_sequence_with_vanilla_viterbi_unknown1 = Vanilla_Viterbi_for_Unknown_Words(words_sample_sentence_1)\n",
    "print(\"Tagging sequence with Vanilla_Viterbi after handling unknown words -\\n\\n\", pos_tagged_sequence_with_vanilla_viterbi_unknown1)\n",
    "\n",
    "print('\\n')\n",
    "\n",
    "# pos tags with viterbi_backedup_by_trigram_tagger\n",
    "pos_tagged_sequence_with_viterbi_trigram1 = viterbi_backedup_by_trigram_tagger(words_sample_sentence_1)\n",
    "print(\"Tagging sequence with viterbi_backedup_by_trigram_tagger -\\n\\n\", pos_tagged_sequence_with_viterbi_trigram1)"
   ]
  },
  {
   "cell_type": "markdown",
   "metadata": {},
   "source": [
    "> **Android** and **Google** are unknown words which were tagged as first tag i.e. **DET** by Vanilla Viterbi arbitrarily<br>\n",
    "> **Android** is correctly tagged as Noun after handling uknown words in Vanilla Viterbi but **Google** is still wrongly tagged as DET<br>\n",
    "> Both **Android** and **Google** are correctly tagged as **NOUN** by Vanilla Viterbi backed off by Trigram Tagger <br>"
   ]
  },
  {
   "cell_type": "markdown",
   "metadata": {},
   "source": [
    "## Case 2"
   ]
  },
  {
   "cell_type": "code",
   "execution_count": 128,
   "metadata": {},
   "outputs": [
    {
     "name": "stdout",
     "output_type": "stream",
     "text": [
      "Tagging sequence with Vanilla_Viterbi -\n",
      "\n",
      " [('Twitter', 'DET'), ('is', 'VERB'), ('an', 'DET'), ('online', 'DET'), ('news', 'NOUN'), ('and', 'CONJ'), ('social', 'ADJ'), ('networking', 'NOUN'), ('service', 'NOUN'), ('on', 'ADP'), ('which', 'DET'), ('users', 'NOUN'), ('post', 'NOUN'), ('and', 'CONJ'), ('interact', 'DET'), ('with', 'ADP'), ('messages', 'DET'), ('known', 'VERB'), ('as', 'ADP'), ('tweets', 'DET'), ('.', '.')]\n",
      "\n",
      "\n",
      "Tagging sequence with Vanilla_Viterbi after handling unknown words -\n",
      "\n",
      " [('Twitter', 'NOUN'), ('is', 'VERB'), ('an', 'DET'), ('online', 'NOUN'), ('news', 'NOUN'), ('and', 'CONJ'), ('social', 'ADJ'), ('networking', 'NOUN'), ('service', 'NOUN'), ('on', 'ADP'), ('which', 'DET'), ('users', 'NOUN'), ('post', 'NOUN'), ('and', 'CONJ'), ('interact', 'NOUN'), ('with', 'ADP'), ('messages', 'DET'), ('known', 'VERB'), ('as', 'ADP'), ('tweets', 'DET'), ('.', '.')]\n",
      "\n",
      "\n",
      "Tagging sequence with viterbi_backedup_by_trigram_tagger -\n",
      "\n",
      " [('Twitter', 'NOUN'), ('is', 'VERB'), ('an', 'DET'), ('online', 'NOUN'), ('news', 'NOUN'), ('and', 'CONJ'), ('social', 'ADJ'), ('networking', 'NOUN'), ('service', 'NOUN'), ('on', 'ADP'), ('which', 'DET'), ('users', 'NOUN'), ('post', 'NOUN'), ('and', 'CONJ'), ('interact', 'NOUN'), ('with', 'ADP'), ('messages', 'VERB'), ('known', 'VERB'), ('as', 'ADP'), ('tweets', 'NOUN'), ('.', '.')]\n"
     ]
    }
   ],
   "source": [
    "\n",
    "words_sample_sentence_2 = nltk.word_tokenize(sample_sentence_2)\n",
    "\n",
    "# pos tagging with Vanilla_Viterbi\n",
    "pos_tagged_sequence_with_vanilla_viterbi2 = Vanilla_Viterbi(words_sample_sentence_2)\n",
    "print(\"Tagging sequence with Vanilla_Viterbi -\\n\\n\", pos_tagged_sequence_with_vanilla_viterbi2)\n",
    "\n",
    "print('\\n')\n",
    "\n",
    "# pos tagging with Vanilla_Viterbi\n",
    "pos_tagged_sequence_with_vanilla_viterbi_unknown2 = Vanilla_Viterbi_for_Unknown_Words(words_sample_sentence_2)\n",
    "print(\"Tagging sequence with Vanilla_Viterbi after handling unknown words -\\n\\n\", pos_tagged_sequence_with_vanilla_viterbi_unknown2)\n",
    "\n",
    "print('\\n')\n",
    "\n",
    "# pos tags with viterbi_backedup_by_trigram_tagger\n",
    "pos_tagged_sequence_with_viterbi_trigram2 = viterbi_backedup_by_trigram_tagger(words_sample_sentence_2)\n",
    "print(\"Tagging sequence with viterbi_backedup_by_trigram_tagger -\\n\\n\", pos_tagged_sequence_with_viterbi_trigram2)"
   ]
  },
  {
   "cell_type": "markdown",
   "metadata": {},
   "source": [
    "> **Twitter**, **online** and **tweets** are unknown words which were tagged as first tag i.e. **DET** by Vanilla Viterbi arbitrarily<br>\n",
    "> **Twitter** and **online** are correctly tagged as Noun after handling unknown words in Vanilla Viterbi but **tweets** is still wrongly tagged as DET<br>\n",
    "> **Twitter**, **online** and **tweets** are correctly tagged as Noun by Vanilla Viterbi backed off by Trigram Tagger and there is still some inaccuracy while tagging words like **interact** and **messages**<br>"
   ]
  },
  {
   "cell_type": "markdown",
   "metadata": {},
   "source": [
    "## Case 3"
   ]
  },
  {
   "cell_type": "code",
   "execution_count": 130,
   "metadata": {},
   "outputs": [
    {
     "name": "stdout",
     "output_type": "stream",
     "text": [
      "Tagging sequence with Vanilla_Viterbi -\n",
      "\n",
      " [('Show', 'NOUN'), ('me', 'PRON'), ('the', 'DET'), ('price', 'NOUN'), ('of', 'ADP'), ('the', 'DET'), ('flights', 'NOUN'), ('leaving', 'VERB'), ('Atlanta', 'NOUN'), ('at', 'ADP'), ('about', 'ADP'), ('3', 'NUM'), ('in', 'ADP'), ('the', 'DET'), ('afternoon', 'NOUN'), ('and', 'CONJ'), ('arriving', 'DET'), ('in', 'ADP'), ('San', 'NOUN'), ('Francisco', 'NOUN'), ('.', '.')]\n",
      "\n",
      "\n",
      "Tagging sequence with Vanilla_Viterbi after handling unknown words -\n",
      "\n",
      " [('Show', 'NOUN'), ('me', 'PRON'), ('the', 'DET'), ('price', 'NOUN'), ('of', 'ADP'), ('the', 'DET'), ('flights', 'NOUN'), ('leaving', 'VERB'), ('Atlanta', 'NOUN'), ('at', 'ADP'), ('about', 'ADP'), ('3', 'NUM'), ('in', 'ADP'), ('the', 'DET'), ('afternoon', 'NOUN'), ('and', 'CONJ'), ('arriving', 'NOUN'), ('in', 'ADP'), ('San', 'NOUN'), ('Francisco', 'NOUN'), ('.', '.')]\n",
      "\n",
      "\n",
      "Tagging sequence with viterbi_backedup_by_trigram_tagger -\n",
      "\n",
      " [('Show', 'NOUN'), ('me', 'PRON'), ('the', 'DET'), ('price', 'NOUN'), ('of', 'ADP'), ('the', 'DET'), ('flights', 'NOUN'), ('leaving', 'VERB'), ('Atlanta', 'NOUN'), ('at', 'ADP'), ('about', 'ADP'), ('3', 'NUM'), ('in', 'ADP'), ('the', 'DET'), ('afternoon', 'NOUN'), ('and', 'CONJ'), ('arriving', 'VERB'), ('in', 'ADP'), ('San', 'NOUN'), ('Francisco', 'NOUN'), ('.', '.')]\n"
     ]
    }
   ],
   "source": [
    "\n",
    "words_sample_sentence_3 = nltk.word_tokenize(sample_sentence_3)\n",
    "\n",
    "# pos tagging with Vanilla_Viterbi\n",
    "pos_tagged_sequence_with_vanilla_viterbi3 = Vanilla_Viterbi(words_sample_sentence_3)\n",
    "print(\"Tagging sequence with Vanilla_Viterbi -\\n\\n\", pos_tagged_sequence_with_vanilla_viterbi3)\n",
    "\n",
    "print('\\n')\n",
    "\n",
    "# pos tagging with Vanilla_Viterbi\n",
    "pos_tagged_sequence_with_vanilla_viterbi_unknown3 = Vanilla_Viterbi_for_Unknown_Words(words_sample_sentence_3)\n",
    "print(\"Tagging sequence with Vanilla_Viterbi after handling unknown words -\\n\\n\", pos_tagged_sequence_with_vanilla_viterbi_unknown3)\n",
    "\n",
    "print('\\n')\n",
    "\n",
    "# pos tags with viterbi_backedup_by_trigram_tagger\n",
    "pos_tagged_sequence_with_viterbi_trigram3 = viterbi_backedup_by_trigram_tagger(words_sample_sentence_3)\n",
    "print(\"Tagging sequence with viterbi_backedup_by_trigram_tagger -\\n\\n\", pos_tagged_sequence_with_viterbi_trigram3)"
   ]
  },
  {
   "cell_type": "markdown",
   "metadata": {},
   "source": [
    "> All the three models performed well on this sample sentence except on the word **arriving** which was arbitrarily tagged as **DET** by Vanilla Viterbi, and wrongly tagged as **NOUN** by Vanilla viterbi after hanlding unknown words and correctly tagged as **VERB** by Vanilla Viterby backed off with trigram tagger"
   ]
  },
  {
   "cell_type": "markdown",
   "metadata": {},
   "source": [
    "# Summary:\n",
    "* `Seemingly Viterbi backed off by Trigram Tagger which itself is backed off by rule based bigram tagger performed better with around 95 % accuracy`"
   ]
  }
 ],
 "metadata": {
  "kernelspec": {
   "display_name": "Python 3",
   "language": "python",
   "name": "python3"
  },
  "language_info": {
   "codemirror_mode": {
    "name": "ipython",
    "version": 3
   },
   "file_extension": ".py",
   "mimetype": "text/x-python",
   "name": "python",
   "nbconvert_exporter": "python",
   "pygments_lexer": "ipython3",
   "version": "3.8.3"
  }
 },
 "nbformat": 4,
 "nbformat_minor": 2
}
